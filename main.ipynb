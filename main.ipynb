{
  "nbformat": 4,
  "nbformat_minor": 0,
  "metadata": {
    "colab": {
      "provenance": [],
      "gpuType": "V28",
      "include_colab_link": true
    },
    "kernelspec": {
      "name": "python3",
      "display_name": "Python 3"
    },
    "language_info": {
      "name": "python"
    },
    "accelerator": "TPU"
  },
  "cells": [
    {
      "cell_type": "markdown",
      "metadata": {
        "id": "view-in-github",
        "colab_type": "text"
      },
      "source": [
        "<a href=\"https://colab.research.google.com/github/Dyaruro1/AI-Proyect-PlacementPrediction/blob/main/main.ipynb\" target=\"_parent\"><img src=\"https://colab.research.google.com/assets/colab-badge.svg\" alt=\"Open In Colab\"/></a>"
      ]
    },
    {
      "cell_type": "markdown",
      "source": [
        "#Challenge"
      ],
      "metadata": {
        "id": "oGrQMyctX97A"
      }
    },
    {
      "cell_type": "markdown",
      "source": [
        "##Generalidades"
      ],
      "metadata": {
        "id": "xcbY_VXvYbXT"
      }
    },
    {
      "cell_type": "code",
      "source": [
        "#@title Imports\n",
        "import gdown\n",
        "import pandas as pd\n",
        "import numpy as np\n",
        "import os\n",
        "import matplotlib.pyplot as plt"
      ],
      "metadata": {
        "id": "nK_wtJYEXmeg"
      },
      "execution_count": 1,
      "outputs": []
    },
    {
      "cell_type": "code",
      "execution_count": 2,
      "metadata": {
        "id": "i5L3ZvL2Ry55"
      },
      "outputs": [],
      "source": [
        "#@title Funciones\n",
        "def load_from_drive(file_id, name):\n",
        "  gdown.download(id=file_id, output=name, quiet=False)\n",
        "  return name\n",
        "\n",
        "def zero_pad(x, target_shape):\n",
        "    padded = np.zeros(target_shape, dtype=x.dtype)\n",
        "    slices = tuple(slice(0, min(dim, target)) for dim, target in zip(x.shape, target_shape))\n",
        "    padded[slices] = x[slices]\n",
        "    return padded"
      ]
    },
    {
      "cell_type": "code",
      "source": [
        "#@title Carga de los datos\n",
        "load_from_drive('1kVbztu0a5E3qefYhMNi7KUgzQXo12uOn', 'data.zip')\n",
        "!unzip \"/content/data.zip\" -d \"/content/data\""
      ],
      "metadata": {
        "id": "Co9iM7kGTIkP"
      },
      "execution_count": null,
      "outputs": []
    },
    {
      "cell_type": "markdown",
      "source": [
        "##Exploracion de los datos"
      ],
      "metadata": {
        "id": "4Fy_svzCYWAj"
      }
    },
    {
      "cell_type": "code",
      "source": [
        "df_train = pd.read_csv('/content/data/train.csv')\n",
        "df_test = pd.read_csv('/content/data/test.csv')"
      ],
      "metadata": {
        "id": "Y_xEmQVWXLFp"
      },
      "execution_count": 4,
      "outputs": []
    },
    {
      "cell_type": "code",
      "source": [
        "df_train.head()"
      ],
      "metadata": {
        "colab": {
          "base_uri": "https://localhost:8080/",
          "height": 206
        },
        "id": "zPyMQXdJX2NF",
        "outputId": "2bc329e2-d78c-4c8d-e910-e3183d8d7215"
      },
      "execution_count": 5,
      "outputs": [
        {
          "output_type": "execute_result",
          "data": {
            "text/plain": [
              "               id  label\n",
              "0   sample697.npy      7\n",
              "1    sample54.npy     81\n",
              "2  sample2270.npy      4\n",
              "3  sample1401.npy     99\n",
              "4  sample1901.npy     43"
            ],
            "text/html": [
              "\n",
              "  <div id=\"df-1f908956-a152-4133-a1e4-196749c06524\" class=\"colab-df-container\">\n",
              "    <div>\n",
              "<style scoped>\n",
              "    .dataframe tbody tr th:only-of-type {\n",
              "        vertical-align: middle;\n",
              "    }\n",
              "\n",
              "    .dataframe tbody tr th {\n",
              "        vertical-align: top;\n",
              "    }\n",
              "\n",
              "    .dataframe thead th {\n",
              "        text-align: right;\n",
              "    }\n",
              "</style>\n",
              "<table border=\"1\" class=\"dataframe\">\n",
              "  <thead>\n",
              "    <tr style=\"text-align: right;\">\n",
              "      <th></th>\n",
              "      <th>id</th>\n",
              "      <th>label</th>\n",
              "    </tr>\n",
              "  </thead>\n",
              "  <tbody>\n",
              "    <tr>\n",
              "      <th>0</th>\n",
              "      <td>sample697.npy</td>\n",
              "      <td>7</td>\n",
              "    </tr>\n",
              "    <tr>\n",
              "      <th>1</th>\n",
              "      <td>sample54.npy</td>\n",
              "      <td>81</td>\n",
              "    </tr>\n",
              "    <tr>\n",
              "      <th>2</th>\n",
              "      <td>sample2270.npy</td>\n",
              "      <td>4</td>\n",
              "    </tr>\n",
              "    <tr>\n",
              "      <th>3</th>\n",
              "      <td>sample1401.npy</td>\n",
              "      <td>99</td>\n",
              "    </tr>\n",
              "    <tr>\n",
              "      <th>4</th>\n",
              "      <td>sample1901.npy</td>\n",
              "      <td>43</td>\n",
              "    </tr>\n",
              "  </tbody>\n",
              "</table>\n",
              "</div>\n",
              "    <div class=\"colab-df-buttons\">\n",
              "\n",
              "  <div class=\"colab-df-container\">\n",
              "    <button class=\"colab-df-convert\" onclick=\"convertToInteractive('df-1f908956-a152-4133-a1e4-196749c06524')\"\n",
              "            title=\"Convert this dataframe to an interactive table.\"\n",
              "            style=\"display:none;\">\n",
              "\n",
              "  <svg xmlns=\"http://www.w3.org/2000/svg\" height=\"24px\" viewBox=\"0 -960 960 960\">\n",
              "    <path d=\"M120-120v-720h720v720H120Zm60-500h600v-160H180v160Zm220 220h160v-160H400v160Zm0 220h160v-160H400v160ZM180-400h160v-160H180v160Zm440 0h160v-160H620v160ZM180-180h160v-160H180v160Zm440 0h160v-160H620v160Z\"/>\n",
              "  </svg>\n",
              "    </button>\n",
              "\n",
              "  <style>\n",
              "    .colab-df-container {\n",
              "      display:flex;\n",
              "      gap: 12px;\n",
              "    }\n",
              "\n",
              "    .colab-df-convert {\n",
              "      background-color: #E8F0FE;\n",
              "      border: none;\n",
              "      border-radius: 50%;\n",
              "      cursor: pointer;\n",
              "      display: none;\n",
              "      fill: #1967D2;\n",
              "      height: 32px;\n",
              "      padding: 0 0 0 0;\n",
              "      width: 32px;\n",
              "    }\n",
              "\n",
              "    .colab-df-convert:hover {\n",
              "      background-color: #E2EBFA;\n",
              "      box-shadow: 0px 1px 2px rgba(60, 64, 67, 0.3), 0px 1px 3px 1px rgba(60, 64, 67, 0.15);\n",
              "      fill: #174EA6;\n",
              "    }\n",
              "\n",
              "    .colab-df-buttons div {\n",
              "      margin-bottom: 4px;\n",
              "    }\n",
              "\n",
              "    [theme=dark] .colab-df-convert {\n",
              "      background-color: #3B4455;\n",
              "      fill: #D2E3FC;\n",
              "    }\n",
              "\n",
              "    [theme=dark] .colab-df-convert:hover {\n",
              "      background-color: #434B5C;\n",
              "      box-shadow: 0px 1px 3px 1px rgba(0, 0, 0, 0.15);\n",
              "      filter: drop-shadow(0px 1px 2px rgba(0, 0, 0, 0.3));\n",
              "      fill: #FFFFFF;\n",
              "    }\n",
              "  </style>\n",
              "\n",
              "    <script>\n",
              "      const buttonEl =\n",
              "        document.querySelector('#df-1f908956-a152-4133-a1e4-196749c06524 button.colab-df-convert');\n",
              "      buttonEl.style.display =\n",
              "        google.colab.kernel.accessAllowed ? 'block' : 'none';\n",
              "\n",
              "      async function convertToInteractive(key) {\n",
              "        const element = document.querySelector('#df-1f908956-a152-4133-a1e4-196749c06524');\n",
              "        const dataTable =\n",
              "          await google.colab.kernel.invokeFunction('convertToInteractive',\n",
              "                                                    [key], {});\n",
              "        if (!dataTable) return;\n",
              "\n",
              "        const docLinkHtml = 'Like what you see? Visit the ' +\n",
              "          '<a target=\"_blank\" href=https://colab.research.google.com/notebooks/data_table.ipynb>data table notebook</a>'\n",
              "          + ' to learn more about interactive tables.';\n",
              "        element.innerHTML = '';\n",
              "        dataTable['output_type'] = 'display_data';\n",
              "        await google.colab.output.renderOutput(dataTable, element);\n",
              "        const docLink = document.createElement('div');\n",
              "        docLink.innerHTML = docLinkHtml;\n",
              "        element.appendChild(docLink);\n",
              "      }\n",
              "    </script>\n",
              "  </div>\n",
              "\n",
              "\n",
              "    <div id=\"df-072f278c-0f3d-4920-b328-6cfe7b8c1e1b\">\n",
              "      <button class=\"colab-df-quickchart\" onclick=\"quickchart('df-072f278c-0f3d-4920-b328-6cfe7b8c1e1b')\"\n",
              "                title=\"Suggest charts\"\n",
              "                style=\"display:none;\">\n",
              "\n",
              "<svg xmlns=\"http://www.w3.org/2000/svg\" height=\"24px\"viewBox=\"0 0 24 24\"\n",
              "     width=\"24px\">\n",
              "    <g>\n",
              "        <path d=\"M19 3H5c-1.1 0-2 .9-2 2v14c0 1.1.9 2 2 2h14c1.1 0 2-.9 2-2V5c0-1.1-.9-2-2-2zM9 17H7v-7h2v7zm4 0h-2V7h2v10zm4 0h-2v-4h2v4z\"/>\n",
              "    </g>\n",
              "</svg>\n",
              "      </button>\n",
              "\n",
              "<style>\n",
              "  .colab-df-quickchart {\n",
              "      --bg-color: #E8F0FE;\n",
              "      --fill-color: #1967D2;\n",
              "      --hover-bg-color: #E2EBFA;\n",
              "      --hover-fill-color: #174EA6;\n",
              "      --disabled-fill-color: #AAA;\n",
              "      --disabled-bg-color: #DDD;\n",
              "  }\n",
              "\n",
              "  [theme=dark] .colab-df-quickchart {\n",
              "      --bg-color: #3B4455;\n",
              "      --fill-color: #D2E3FC;\n",
              "      --hover-bg-color: #434B5C;\n",
              "      --hover-fill-color: #FFFFFF;\n",
              "      --disabled-bg-color: #3B4455;\n",
              "      --disabled-fill-color: #666;\n",
              "  }\n",
              "\n",
              "  .colab-df-quickchart {\n",
              "    background-color: var(--bg-color);\n",
              "    border: none;\n",
              "    border-radius: 50%;\n",
              "    cursor: pointer;\n",
              "    display: none;\n",
              "    fill: var(--fill-color);\n",
              "    height: 32px;\n",
              "    padding: 0;\n",
              "    width: 32px;\n",
              "  }\n",
              "\n",
              "  .colab-df-quickchart:hover {\n",
              "    background-color: var(--hover-bg-color);\n",
              "    box-shadow: 0 1px 2px rgba(60, 64, 67, 0.3), 0 1px 3px 1px rgba(60, 64, 67, 0.15);\n",
              "    fill: var(--button-hover-fill-color);\n",
              "  }\n",
              "\n",
              "  .colab-df-quickchart-complete:disabled,\n",
              "  .colab-df-quickchart-complete:disabled:hover {\n",
              "    background-color: var(--disabled-bg-color);\n",
              "    fill: var(--disabled-fill-color);\n",
              "    box-shadow: none;\n",
              "  }\n",
              "\n",
              "  .colab-df-spinner {\n",
              "    border: 2px solid var(--fill-color);\n",
              "    border-color: transparent;\n",
              "    border-bottom-color: var(--fill-color);\n",
              "    animation:\n",
              "      spin 1s steps(1) infinite;\n",
              "  }\n",
              "\n",
              "  @keyframes spin {\n",
              "    0% {\n",
              "      border-color: transparent;\n",
              "      border-bottom-color: var(--fill-color);\n",
              "      border-left-color: var(--fill-color);\n",
              "    }\n",
              "    20% {\n",
              "      border-color: transparent;\n",
              "      border-left-color: var(--fill-color);\n",
              "      border-top-color: var(--fill-color);\n",
              "    }\n",
              "    30% {\n",
              "      border-color: transparent;\n",
              "      border-left-color: var(--fill-color);\n",
              "      border-top-color: var(--fill-color);\n",
              "      border-right-color: var(--fill-color);\n",
              "    }\n",
              "    40% {\n",
              "      border-color: transparent;\n",
              "      border-right-color: var(--fill-color);\n",
              "      border-top-color: var(--fill-color);\n",
              "    }\n",
              "    60% {\n",
              "      border-color: transparent;\n",
              "      border-right-color: var(--fill-color);\n",
              "    }\n",
              "    80% {\n",
              "      border-color: transparent;\n",
              "      border-right-color: var(--fill-color);\n",
              "      border-bottom-color: var(--fill-color);\n",
              "    }\n",
              "    90% {\n",
              "      border-color: transparent;\n",
              "      border-bottom-color: var(--fill-color);\n",
              "    }\n",
              "  }\n",
              "</style>\n",
              "\n",
              "      <script>\n",
              "        async function quickchart(key) {\n",
              "          const quickchartButtonEl =\n",
              "            document.querySelector('#' + key + ' button');\n",
              "          quickchartButtonEl.disabled = true;  // To prevent multiple clicks.\n",
              "          quickchartButtonEl.classList.add('colab-df-spinner');\n",
              "          try {\n",
              "            const charts = await google.colab.kernel.invokeFunction(\n",
              "                'suggestCharts', [key], {});\n",
              "          } catch (error) {\n",
              "            console.error('Error during call to suggestCharts:', error);\n",
              "          }\n",
              "          quickchartButtonEl.classList.remove('colab-df-spinner');\n",
              "          quickchartButtonEl.classList.add('colab-df-quickchart-complete');\n",
              "        }\n",
              "        (() => {\n",
              "          let quickchartButtonEl =\n",
              "            document.querySelector('#df-072f278c-0f3d-4920-b328-6cfe7b8c1e1b button');\n",
              "          quickchartButtonEl.style.display =\n",
              "            google.colab.kernel.accessAllowed ? 'block' : 'none';\n",
              "        })();\n",
              "      </script>\n",
              "    </div>\n",
              "\n",
              "    </div>\n",
              "  </div>\n"
            ],
            "application/vnd.google.colaboratory.intrinsic+json": {
              "type": "dataframe",
              "variable_name": "df_train",
              "summary": "{\n  \"name\": \"df_train\",\n  \"rows\": 2177,\n  \"fields\": [\n    {\n      \"column\": \"id\",\n      \"properties\": {\n        \"dtype\": \"string\",\n        \"num_unique_values\": 2177,\n        \"samples\": [\n          \"sample453.npy\",\n          \"sample2103.npy\",\n          \"sample158.npy\"\n        ],\n        \"semantic_type\": \"\",\n        \"description\": \"\"\n      }\n    },\n    {\n      \"column\": \"label\",\n      \"properties\": {\n        \"dtype\": \"number\",\n        \"std\": 29,\n        \"min\": 0,\n        \"max\": 100,\n        \"num_unique_values\": 101,\n        \"samples\": [\n          41,\n          46,\n          29\n        ],\n        \"semantic_type\": \"\",\n        \"description\": \"\"\n      }\n    }\n  ]\n}"
            }
          },
          "metadata": {},
          "execution_count": 5
        }
      ]
    },
    {
      "cell_type": "code",
      "source": [
        "df_test.head()"
      ],
      "metadata": {
        "colab": {
          "base_uri": "https://localhost:8080/",
          "height": 206
        },
        "id": "MV0N5qElX7vI",
        "outputId": "12c2939f-9c56-49e4-e1de-5c6a244fcd9e"
      },
      "execution_count": 6,
      "outputs": [
        {
          "output_type": "execute_result",
          "data": {
            "text/plain": [
              "               id\n",
              "0  sample1957.npy\n",
              "1  sample1369.npy\n",
              "2   sample782.npy\n",
              "3  sample2255.npy\n",
              "4  sample2160.npy"
            ],
            "text/html": [
              "\n",
              "  <div id=\"df-5b134371-46d9-48ca-846d-fd2ed591dbce\" class=\"colab-df-container\">\n",
              "    <div>\n",
              "<style scoped>\n",
              "    .dataframe tbody tr th:only-of-type {\n",
              "        vertical-align: middle;\n",
              "    }\n",
              "\n",
              "    .dataframe tbody tr th {\n",
              "        vertical-align: top;\n",
              "    }\n",
              "\n",
              "    .dataframe thead th {\n",
              "        text-align: right;\n",
              "    }\n",
              "</style>\n",
              "<table border=\"1\" class=\"dataframe\">\n",
              "  <thead>\n",
              "    <tr style=\"text-align: right;\">\n",
              "      <th></th>\n",
              "      <th>id</th>\n",
              "    </tr>\n",
              "  </thead>\n",
              "  <tbody>\n",
              "    <tr>\n",
              "      <th>0</th>\n",
              "      <td>sample1957.npy</td>\n",
              "    </tr>\n",
              "    <tr>\n",
              "      <th>1</th>\n",
              "      <td>sample1369.npy</td>\n",
              "    </tr>\n",
              "    <tr>\n",
              "      <th>2</th>\n",
              "      <td>sample782.npy</td>\n",
              "    </tr>\n",
              "    <tr>\n",
              "      <th>3</th>\n",
              "      <td>sample2255.npy</td>\n",
              "    </tr>\n",
              "    <tr>\n",
              "      <th>4</th>\n",
              "      <td>sample2160.npy</td>\n",
              "    </tr>\n",
              "  </tbody>\n",
              "</table>\n",
              "</div>\n",
              "    <div class=\"colab-df-buttons\">\n",
              "\n",
              "  <div class=\"colab-df-container\">\n",
              "    <button class=\"colab-df-convert\" onclick=\"convertToInteractive('df-5b134371-46d9-48ca-846d-fd2ed591dbce')\"\n",
              "            title=\"Convert this dataframe to an interactive table.\"\n",
              "            style=\"display:none;\">\n",
              "\n",
              "  <svg xmlns=\"http://www.w3.org/2000/svg\" height=\"24px\" viewBox=\"0 -960 960 960\">\n",
              "    <path d=\"M120-120v-720h720v720H120Zm60-500h600v-160H180v160Zm220 220h160v-160H400v160Zm0 220h160v-160H400v160ZM180-400h160v-160H180v160Zm440 0h160v-160H620v160ZM180-180h160v-160H180v160Zm440 0h160v-160H620v160Z\"/>\n",
              "  </svg>\n",
              "    </button>\n",
              "\n",
              "  <style>\n",
              "    .colab-df-container {\n",
              "      display:flex;\n",
              "      gap: 12px;\n",
              "    }\n",
              "\n",
              "    .colab-df-convert {\n",
              "      background-color: #E8F0FE;\n",
              "      border: none;\n",
              "      border-radius: 50%;\n",
              "      cursor: pointer;\n",
              "      display: none;\n",
              "      fill: #1967D2;\n",
              "      height: 32px;\n",
              "      padding: 0 0 0 0;\n",
              "      width: 32px;\n",
              "    }\n",
              "\n",
              "    .colab-df-convert:hover {\n",
              "      background-color: #E2EBFA;\n",
              "      box-shadow: 0px 1px 2px rgba(60, 64, 67, 0.3), 0px 1px 3px 1px rgba(60, 64, 67, 0.15);\n",
              "      fill: #174EA6;\n",
              "    }\n",
              "\n",
              "    .colab-df-buttons div {\n",
              "      margin-bottom: 4px;\n",
              "    }\n",
              "\n",
              "    [theme=dark] .colab-df-convert {\n",
              "      background-color: #3B4455;\n",
              "      fill: #D2E3FC;\n",
              "    }\n",
              "\n",
              "    [theme=dark] .colab-df-convert:hover {\n",
              "      background-color: #434B5C;\n",
              "      box-shadow: 0px 1px 3px 1px rgba(0, 0, 0, 0.15);\n",
              "      filter: drop-shadow(0px 1px 2px rgba(0, 0, 0, 0.3));\n",
              "      fill: #FFFFFF;\n",
              "    }\n",
              "  </style>\n",
              "\n",
              "    <script>\n",
              "      const buttonEl =\n",
              "        document.querySelector('#df-5b134371-46d9-48ca-846d-fd2ed591dbce button.colab-df-convert');\n",
              "      buttonEl.style.display =\n",
              "        google.colab.kernel.accessAllowed ? 'block' : 'none';\n",
              "\n",
              "      async function convertToInteractive(key) {\n",
              "        const element = document.querySelector('#df-5b134371-46d9-48ca-846d-fd2ed591dbce');\n",
              "        const dataTable =\n",
              "          await google.colab.kernel.invokeFunction('convertToInteractive',\n",
              "                                                    [key], {});\n",
              "        if (!dataTable) return;\n",
              "\n",
              "        const docLinkHtml = 'Like what you see? Visit the ' +\n",
              "          '<a target=\"_blank\" href=https://colab.research.google.com/notebooks/data_table.ipynb>data table notebook</a>'\n",
              "          + ' to learn more about interactive tables.';\n",
              "        element.innerHTML = '';\n",
              "        dataTable['output_type'] = 'display_data';\n",
              "        await google.colab.output.renderOutput(dataTable, element);\n",
              "        const docLink = document.createElement('div');\n",
              "        docLink.innerHTML = docLinkHtml;\n",
              "        element.appendChild(docLink);\n",
              "      }\n",
              "    </script>\n",
              "  </div>\n",
              "\n",
              "\n",
              "    <div id=\"df-5d58a024-081e-41b7-9220-e99b18c0ffbd\">\n",
              "      <button class=\"colab-df-quickchart\" onclick=\"quickchart('df-5d58a024-081e-41b7-9220-e99b18c0ffbd')\"\n",
              "                title=\"Suggest charts\"\n",
              "                style=\"display:none;\">\n",
              "\n",
              "<svg xmlns=\"http://www.w3.org/2000/svg\" height=\"24px\"viewBox=\"0 0 24 24\"\n",
              "     width=\"24px\">\n",
              "    <g>\n",
              "        <path d=\"M19 3H5c-1.1 0-2 .9-2 2v14c0 1.1.9 2 2 2h14c1.1 0 2-.9 2-2V5c0-1.1-.9-2-2-2zM9 17H7v-7h2v7zm4 0h-2V7h2v10zm4 0h-2v-4h2v4z\"/>\n",
              "    </g>\n",
              "</svg>\n",
              "      </button>\n",
              "\n",
              "<style>\n",
              "  .colab-df-quickchart {\n",
              "      --bg-color: #E8F0FE;\n",
              "      --fill-color: #1967D2;\n",
              "      --hover-bg-color: #E2EBFA;\n",
              "      --hover-fill-color: #174EA6;\n",
              "      --disabled-fill-color: #AAA;\n",
              "      --disabled-bg-color: #DDD;\n",
              "  }\n",
              "\n",
              "  [theme=dark] .colab-df-quickchart {\n",
              "      --bg-color: #3B4455;\n",
              "      --fill-color: #D2E3FC;\n",
              "      --hover-bg-color: #434B5C;\n",
              "      --hover-fill-color: #FFFFFF;\n",
              "      --disabled-bg-color: #3B4455;\n",
              "      --disabled-fill-color: #666;\n",
              "  }\n",
              "\n",
              "  .colab-df-quickchart {\n",
              "    background-color: var(--bg-color);\n",
              "    border: none;\n",
              "    border-radius: 50%;\n",
              "    cursor: pointer;\n",
              "    display: none;\n",
              "    fill: var(--fill-color);\n",
              "    height: 32px;\n",
              "    padding: 0;\n",
              "    width: 32px;\n",
              "  }\n",
              "\n",
              "  .colab-df-quickchart:hover {\n",
              "    background-color: var(--hover-bg-color);\n",
              "    box-shadow: 0 1px 2px rgba(60, 64, 67, 0.3), 0 1px 3px 1px rgba(60, 64, 67, 0.15);\n",
              "    fill: var(--button-hover-fill-color);\n",
              "  }\n",
              "\n",
              "  .colab-df-quickchart-complete:disabled,\n",
              "  .colab-df-quickchart-complete:disabled:hover {\n",
              "    background-color: var(--disabled-bg-color);\n",
              "    fill: var(--disabled-fill-color);\n",
              "    box-shadow: none;\n",
              "  }\n",
              "\n",
              "  .colab-df-spinner {\n",
              "    border: 2px solid var(--fill-color);\n",
              "    border-color: transparent;\n",
              "    border-bottom-color: var(--fill-color);\n",
              "    animation:\n",
              "      spin 1s steps(1) infinite;\n",
              "  }\n",
              "\n",
              "  @keyframes spin {\n",
              "    0% {\n",
              "      border-color: transparent;\n",
              "      border-bottom-color: var(--fill-color);\n",
              "      border-left-color: var(--fill-color);\n",
              "    }\n",
              "    20% {\n",
              "      border-color: transparent;\n",
              "      border-left-color: var(--fill-color);\n",
              "      border-top-color: var(--fill-color);\n",
              "    }\n",
              "    30% {\n",
              "      border-color: transparent;\n",
              "      border-left-color: var(--fill-color);\n",
              "      border-top-color: var(--fill-color);\n",
              "      border-right-color: var(--fill-color);\n",
              "    }\n",
              "    40% {\n",
              "      border-color: transparent;\n",
              "      border-right-color: var(--fill-color);\n",
              "      border-top-color: var(--fill-color);\n",
              "    }\n",
              "    60% {\n",
              "      border-color: transparent;\n",
              "      border-right-color: var(--fill-color);\n",
              "    }\n",
              "    80% {\n",
              "      border-color: transparent;\n",
              "      border-right-color: var(--fill-color);\n",
              "      border-bottom-color: var(--fill-color);\n",
              "    }\n",
              "    90% {\n",
              "      border-color: transparent;\n",
              "      border-bottom-color: var(--fill-color);\n",
              "    }\n",
              "  }\n",
              "</style>\n",
              "\n",
              "      <script>\n",
              "        async function quickchart(key) {\n",
              "          const quickchartButtonEl =\n",
              "            document.querySelector('#' + key + ' button');\n",
              "          quickchartButtonEl.disabled = true;  // To prevent multiple clicks.\n",
              "          quickchartButtonEl.classList.add('colab-df-spinner');\n",
              "          try {\n",
              "            const charts = await google.colab.kernel.invokeFunction(\n",
              "                'suggestCharts', [key], {});\n",
              "          } catch (error) {\n",
              "            console.error('Error during call to suggestCharts:', error);\n",
              "          }\n",
              "          quickchartButtonEl.classList.remove('colab-df-spinner');\n",
              "          quickchartButtonEl.classList.add('colab-df-quickchart-complete');\n",
              "        }\n",
              "        (() => {\n",
              "          let quickchartButtonEl =\n",
              "            document.querySelector('#df-5d58a024-081e-41b7-9220-e99b18c0ffbd button');\n",
              "          quickchartButtonEl.style.display =\n",
              "            google.colab.kernel.accessAllowed ? 'block' : 'none';\n",
              "        })();\n",
              "      </script>\n",
              "    </div>\n",
              "\n",
              "    </div>\n",
              "  </div>\n"
            ],
            "application/vnd.google.colaboratory.intrinsic+json": {
              "type": "dataframe",
              "variable_name": "df_test",
              "summary": "{\n  \"name\": \"df_test\",\n  \"rows\": 545,\n  \"fields\": [\n    {\n      \"column\": \"id\",\n      \"properties\": {\n        \"dtype\": \"string\",\n        \"num_unique_values\": 545,\n        \"samples\": [\n          \"sample1261.npy\",\n          \"sample2615.npy\",\n          \"sample728.npy\"\n        ],\n        \"semantic_type\": \"\",\n        \"description\": \"\"\n      }\n    }\n  ]\n}"
            }
          },
          "metadata": {},
          "execution_count": 6
        }
      ]
    },
    {
      "cell_type": "code",
      "source": [
        "df_train.info()"
      ],
      "metadata": {
        "colab": {
          "base_uri": "https://localhost:8080/"
        },
        "id": "RZxvVH78R4wX",
        "outputId": "c273f93c-bd19-45fb-b653-e6e54c36f21e"
      },
      "execution_count": 7,
      "outputs": [
        {
          "output_type": "stream",
          "name": "stdout",
          "text": [
            "<class 'pandas.core.frame.DataFrame'>\n",
            "RangeIndex: 2177 entries, 0 to 2176\n",
            "Data columns (total 2 columns):\n",
            " #   Column  Non-Null Count  Dtype \n",
            "---  ------  --------------  ----- \n",
            " 0   id      2177 non-null   object\n",
            " 1   label   2177 non-null   int64 \n",
            "dtypes: int64(1), object(1)\n",
            "memory usage: 34.1+ KB\n"
          ]
        }
      ]
    },
    {
      "cell_type": "code",
      "source": [
        "df_test.info()"
      ],
      "metadata": {
        "colab": {
          "base_uri": "https://localhost:8080/"
        },
        "id": "0Sfr1FzGRzp-",
        "outputId": "46817f78-6196-4b46-dcde-e08fe810d959"
      },
      "execution_count": 8,
      "outputs": [
        {
          "output_type": "stream",
          "name": "stdout",
          "text": [
            "<class 'pandas.core.frame.DataFrame'>\n",
            "RangeIndex: 545 entries, 0 to 544\n",
            "Data columns (total 1 columns):\n",
            " #   Column  Non-Null Count  Dtype \n",
            "---  ------  --------------  ----- \n",
            " 0   id      545 non-null    object\n",
            "dtypes: object(1)\n",
            "memory usage: 4.4+ KB\n"
          ]
        }
      ]
    },
    {
      "cell_type": "code",
      "source": [
        "print(len(df_train['label'].unique()))"
      ],
      "metadata": {
        "colab": {
          "base_uri": "https://localhost:8080/"
        },
        "id": "uisWlL-OSFJE",
        "outputId": "9c15bc75-b614-4764-b499-9dba8168da2d"
      },
      "execution_count": 9,
      "outputs": [
        {
          "output_type": "stream",
          "name": "stdout",
          "text": [
            "101\n"
          ]
        }
      ]
    },
    {
      "cell_type": "code",
      "source": [
        "dir_csv = '/content/data/train.csv'\n",
        "dir_npys = '/content/data/ot/ot'\n",
        "\n",
        "chunk_size = 32\n",
        "EXPECTED_SHAPE = (128,128,125)"
      ],
      "metadata": {
        "id": "LxGGOe9e3qqZ"
      },
      "execution_count": 10,
      "outputs": []
    },
    {
      "cell_type": "code",
      "source": [
        "all_data = []\n",
        "all_labels = []\n",
        "\n",
        "for idx, fila in df_train.iterrows():\n",
        "    npy_path = os.path.join(dir_npys, fila['id'])\n",
        "    try:\n",
        "        npy = np.load(npy_path)\n",
        "    except:\n",
        "        print(f\"Error cargando {npy_path}\")\n",
        "        continue\n",
        "\n",
        "    # Verificamos si la imagen es completamente negra o si mas de la mitad son 0\n",
        "    if np.all(npy == 0) or np.mean(npy == 0) > 0.5:\n",
        "        continue\n",
        "\n",
        "    if npy.shape != EXPECTED_SHAPE:  # Espera (128, 128, 125)\n",
        "        continue\n",
        "\n",
        "    # Movemos el eje de canales al primero para iterar fácilmente\n",
        "    npy = np.moveaxis(npy, -1, 0)  # Ahora shape: (125, 128, 128)\n",
        "\n",
        "    canales_filtrados = []\n",
        "    for canal in npy:\n",
        "        # Verificamos que el canal tenga shape (128, 128)\n",
        "        if canal.shape != (128, 128):\n",
        "            continue\n",
        "\n",
        "        proporcion_ceros = np.sum(canal == 0) / canal.size\n",
        "        if proporcion_ceros < 0.9:\n",
        "            canales_filtrados.append(canal)\n",
        "\n",
        "    if len(canales_filtrados) == 0:\n",
        "        continue\n",
        "\n",
        "    npy_filtrado = np.array(canales_filtrados)  # shape (canales_filtrados, 128, 128)\n",
        "\n",
        "    # Volvemos a mover los canales al último eje para conservar el formato original\n",
        "    npy_filtrado = np.moveaxis(npy_filtrado, 0, -1)  # shape (128, 128, canales_filtrados)\n",
        "\n",
        "    all_data.append(npy_filtrado)\n",
        "    all_labels.append(fila['label'])\n"
      ],
      "metadata": {
        "colab": {
          "base_uri": "https://localhost:8080/"
        },
        "id": "MWq57jpZ5yge",
        "outputId": "2b0b7a4a-a378-4cd8-8304-9fce05cdb16c"
      },
      "execution_count": 216,
      "outputs": [
        {
          "output_type": "stream",
          "name": "stdout",
          "text": [
            "Error cargando /content/data/ot/ot/sample2451.npy\n"
          ]
        }
      ]
    },
    {
      "cell_type": "code",
      "source": [
        "# def chunk_generator(dir_csv, dir_npys, chunk_size=32, expected_shape=(128,128,125)):\n",
        "#     df = pd.read_csv(dir_csv)\n",
        "#     npys = []\n",
        "#     labels = []\n",
        "\n",
        "#     for idx, fila in df.iterrows():\n",
        "#         npy_path = os.path.join(dir_npys, fila['id'])\n",
        "\n",
        "#         try:\n",
        "#             npy = np.load(npy_path)\n",
        "\n",
        "#             if npy.shape != expected_shape:\n",
        "#                 try:\n",
        "#                     npy = zero_pad(npy, expected_shape)\n",
        "#                 except Exception as e:\n",
        "#                     print(f\"Error haciendo padding: {npy.shape} en {e}\")\n",
        "#                     continue\n",
        "\n",
        "#             npys.append(npy)\n",
        "#             labels.append(fila['label'])\n",
        "\n",
        "#             if len(npys) == chunk_size:\n",
        "#                 X_chunk = np.array(npys)\n",
        "#                 y_chunk = np.array(labels)\n",
        "#                 yield X_chunk, y_chunk\n",
        "#                 npys = []\n",
        "#                 labels = []\n",
        "\n",
        "#         except Exception as e:\n",
        "#             print(f\"Error cargando {npy_path}: {e}\")"
      ],
      "metadata": {
        "id": "mz331EUyZyFa"
      },
      "execution_count": null,
      "outputs": []
    },
    {
      "cell_type": "code",
      "source": [
        "\n",
        "# def extract_patches(X, y, patch_size=5):\n",
        "#     patches = []\n",
        "#     labels = []\n",
        "#     margin = patch_size // 2\n",
        "\n",
        "#     for i in range(X.shape[0]):\n",
        "#         cube = X[i]\n",
        "#         label = y[i]\n",
        "#         for row in range(margin, cube.shape[0] - margin):\n",
        "#             for col in range(margin, cube.shape[1] - margin):\n",
        "#                 patch = cube[row-margin:row+margin+1, col-margin:col+margin+1, :]\n",
        "#                 patches.append(patch)\n",
        "#                 labels.append(label)\n",
        "\n",
        "#     patches = np.array(patches)\n",
        "#     labels = np.array(labels)\n",
        "#     return patches, labels"
      ],
      "metadata": {
        "id": "S1d8EmpV-5M_"
      },
      "execution_count": null,
      "outputs": []
    },
    {
      "cell_type": "code",
      "source": [
        "# ### Imports\n",
        "# # === IMPORTS ===\n",
        "# import numpy as np\n",
        "# import pandas as pd\n",
        "# import os\n",
        "# from sklearn.preprocessing import LabelEncoder\n",
        "# from tensorflow.keras.utils import to_categorical\n",
        "# from tensorflow.keras.models import Model\n",
        "# from tensorflow.keras.layers import Input, Dense, Flatten, Reshape\n",
        "# from tensorflow.keras.optimizers import Adam\n",
        "\n",
        "\n",
        "# ### Modelo Autoencoder\n",
        "# input_shape = (5, 5, 125)\n",
        "# flatten_dim = np.prod(input_shape)\n",
        "# latent_dim = 64\n",
        "\n",
        "# input_img = Input(shape=input_shape)\n",
        "# x = Flatten()(input_img)\n",
        "# encoded = Dense(256, activation='relu')(x)\n",
        "# encoded = Dense(latent_dim, activation='relu')(encoded)\n",
        "# decoded = Dense(256, activation='relu')(encoded)\n",
        "# decoded = Dense(flatten_dim, activation='sigmoid')(decoded)\n",
        "# decoded_reshaped = Reshape(input_shape)(decoded)\n",
        "\n",
        "# autoencoder = Model(input_img, decoded_reshaped)\n",
        "# encoder = Model(input_img, encoded)\n",
        "# autoencoder.compile(optimizer=Adam(1e-3), loss='mse')\n",
        "\n",
        "# ### Entrenamiento\n",
        "# all_encoded = []\n",
        "# all_labels = []\n",
        "\n",
        "# for epoch in range(3):\n",
        "#     print(f\"\\n🔁 Epoch {epoch+1}/10\")\n",
        "#     for X_chunk, y_chunk in chunk_generator(dir_csv, dir_npys):\n",
        "#         X_patches, y_labels = extract_patches(X_chunk, y_chunk)\n",
        "#         X_patches = X_patches / np.max(X_patches)\n",
        "\n",
        "#         autoencoder.fit(X_patches, X_patches, epochs=1, verbose=0)\n",
        "\n",
        "#         encoded = encoder.predict(X_patches)\n",
        "#         all_encoded.append(encoded)\n",
        "#         all_labels.extend(y_labels)\n",
        "\n",
        "# X_encoded = np.vstack(all_encoded)\n",
        "# patch_labels = np.array(all_labels)\n",
        "\n",
        "# # Clasificador\n",
        "# le = LabelEncoder()\n",
        "# y_encoded = le.fit_transform(patch_labels)\n",
        "# y_onehot = to_categorical(y_encoded)\n",
        "\n",
        "# input_latent = Input(shape=(latent_dim,))\n",
        "# x = Dense(64, activation='relu')(input_latent)\n",
        "# x = Dense(32, activation='relu')(x)\n",
        "# output = Dense(y_onehot.shape[1], activation='softmax')(x)\n",
        "\n",
        "# classifier = Model(input_latent, output)\n",
        "# classifier.compile(optimizer=Adam(1e-3), loss='categorical_crossentropy', metrics=['accuracy'])\n",
        "\n",
        "# classifier.fit(X_encoded, y_onehot, epochs=10, batch_size=64, shuffle=True, validation_split=0.2)\n"
      ],
      "metadata": {
        "id": "v6XV-PWn-i8A",
        "outputId": "597ea286-1c24-44ef-93bc-c7333b107523",
        "colab": {
          "base_uri": "https://localhost:8080/"
        }
      },
      "execution_count": null,
      "outputs": [
        {
          "output_type": "stream",
          "name": "stdout",
          "text": [
            "\n",
            "🔁 Epoch 1/10\n"
          ]
        }
      ]
    },
    {
      "cell_type": "markdown",
      "source": [
        "Primer entrenamiento con metricas"
      ],
      "metadata": {
        "id": "RmPOuxRPRYaV"
      }
    },
    {
      "cell_type": "code",
      "source": [
        "!pip install tensorflow"
      ],
      "metadata": {
        "id": "LgJv1REyRkHx"
      },
      "execution_count": null,
      "outputs": []
    },
    {
      "cell_type": "code",
      "source": [
        "import numpy as np\n",
        "import tensorflow as tf\n",
        "from tensorflow.keras.layers import Input, Conv2D, Conv2DTranspose, Flatten, Dense, Reshape\n",
        "from tensorflow.keras.models import Model\n",
        "from tensorflow.keras.optimizers import Adam\n",
        "from tensorflow.keras.utils import to_categorical\n",
        "from sklearn.preprocessing import LabelEncoder\n",
        "from sklearn.model_selection import train_test_split\n",
        "from sklearn.metrics import classification_report, accuracy_score\n",
        "\n",
        "# Asumiendo que tienes:\n",
        "# all_data: lista o array numpy (N, 128, 128, 125)\n",
        "# all_labels: lista o array (N, )\n",
        "\n",
        "# --- 1. Prepara los datos ---\n",
        "X = np.array(all_data, dtype=np.float32)\n",
        "y = np.array(all_labels)\n",
        "\n",
        "# Normalizar a [0,1]\n",
        "X = X / np.max(X)\n",
        "\n",
        "# División train/val\n",
        "X_train, X_val, y_train, y_val = train_test_split(X, y, test_size=0.2, random_state=42, stratify=y)\n",
        "\n",
        "# --- 2. Define autoencoder convolucional ---\n",
        "\n",
        "input_shape = (128, 128, 125)\n",
        "latent_dim = 64\n",
        "\n",
        "input_img = Input(shape=input_shape)\n",
        "\n",
        "# Encoder\n",
        "x = Conv2D(32, (3,3), activation='relu', padding='same')(input_img)\n",
        "x = Conv2D(64, (3,3), activation='relu', padding='same', strides=2)(x)  # 64x64\n",
        "x = Conv2D(128, (3,3), activation='relu', padding='same', strides=2)(x) # 32x32\n",
        "x = Conv2D(256, (3,3), activation='relu', padding='same', strides=2)(x) # 16x16\n",
        "x = Flatten()(x)\n",
        "encoded = Dense(latent_dim, activation='relu')(x)\n",
        "\n",
        "# Decoder\n",
        "x = Dense(16*16*256, activation='relu')(encoded)\n",
        "x = Reshape((16, 16, 256))(x)\n",
        "x = Conv2DTranspose(128, (3,3), activation='relu', padding='same', strides=2)(x)  # 32x32\n",
        "x = Conv2DTranspose(64, (3,3), activation='relu', padding='same', strides=2)(x)   # 64x64\n",
        "x = Conv2DTranspose(32, (3,3), activation='relu', padding='same', strides=2)(x)   # 128x128\n",
        "decoded = Conv2DTranspose(input_shape[-1], (3,3), activation='sigmoid', padding='same')(x)\n",
        "\n",
        "autoencoder = Model(input_img, decoded)\n",
        "encoder = Model(input_img, encoded)\n",
        "\n",
        "autoencoder.compile(optimizer=Adam(1e-3), loss='mse')\n",
        "\n",
        "# --- 3. Entrena autoencoder ---\n",
        "autoencoder.fit(\n",
        "    X_train, X_train,\n",
        "    validation_data=(X_val, X_val),\n",
        "    epochs=20,\n",
        "    batch_size=8,\n",
        "    shuffle=True\n",
        ")\n",
        "\n",
        "# --- 4. Obtén representación latente ---\n",
        "X_train_encoded = encoder.predict(X_train)\n",
        "X_val_encoded = encoder.predict(X_val)\n",
        "\n",
        "# --- 5. Clasificador ---\n",
        "le = LabelEncoder()\n",
        "y_train_enc = le.fit_transform(y_train)\n",
        "y_val_enc = le.transform(y_val)\n",
        "\n",
        "y_train_cat = to_categorical(y_train_enc)\n",
        "y_val_cat = to_categorical(y_val_enc)\n",
        "\n",
        "input_latent = Input(shape=(latent_dim,))\n",
        "x = Dense(64, activation='relu')(input_latent)\n",
        "x = Dense(32, activation='relu')(x)\n",
        "output = Dense(y_train_cat.shape[1], activation='softmax')(x)\n",
        "\n",
        "classifier = Model(input_latent, output)\n",
        "classifier.compile(optimizer=Adam(1e-3), loss='categorical_crossentropy', metrics=['accuracy'])\n",
        "\n",
        "classifier.fit(\n",
        "    X_train_encoded, y_train_cat,\n",
        "    validation_data=(X_val_encoded, y_val_cat),\n",
        "    epochs=20,\n",
        "    batch_size=16,\n",
        "    shuffle=True\n",
        ")\n",
        "\n",
        "# --- 6. Evaluación ---\n",
        "y_val_pred_prob = classifier.predict(X_val_encoded)\n",
        "y_val_pred = np.argmax(y_val_pred_prob, axis=1)\n",
        "\n",
        "print(\"Accuracy en validación:\", accuracy_score(y_val_enc, y_val_pred))\n",
        "print(\"Reporte de clasificación:\\n\", classification_report(y_val_enc, y_val_pred, target_names=le.classes_))\n"
      ],
      "metadata": {
        "colab": {
          "base_uri": "https://localhost:8080/"
        },
        "id": "wnRAHeH5Raet",
        "outputId": "4b53661d-e429-4bdc-d38a-d322a0704a47"
      },
      "execution_count": null,
      "outputs": [
        {
          "output_type": "stream",
          "name": "stdout",
          "text": [
            "Epoch 1/20\n",
            "\u001b[1m194/194\u001b[0m \u001b[32m━━━━━━━━━━━━━━━━━━━━\u001b[0m\u001b[37m\u001b[0m \u001b[1m510s\u001b[0m 3s/step - loss: 0.0627 - val_loss: 0.0080\n",
            "Epoch 2/20\n",
            "\u001b[1m194/194\u001b[0m \u001b[32m━━━━━━━━━━━━━━━━━━━━\u001b[0m\u001b[37m\u001b[0m \u001b[1m501s\u001b[0m 3s/step - loss: 0.0076 - val_loss: 0.0080\n",
            "Epoch 3/20\n",
            "\u001b[1m194/194\u001b[0m \u001b[32m━━━━━━━━━━━━━━━━━━━━\u001b[0m\u001b[37m\u001b[0m \u001b[1m500s\u001b[0m 3s/step - loss: 0.0074 - val_loss: 0.0080\n",
            "Epoch 4/20\n",
            "\u001b[1m194/194\u001b[0m \u001b[32m━━━━━━━━━━━━━━━━━━━━\u001b[0m\u001b[37m\u001b[0m \u001b[1m498s\u001b[0m 3s/step - loss: 0.0076 - val_loss: 0.0080\n",
            "Epoch 5/20\n",
            "\u001b[1m194/194\u001b[0m \u001b[32m━━━━━━━━━━━━━━━━━━━━\u001b[0m\u001b[37m\u001b[0m \u001b[1m499s\u001b[0m 3s/step - loss: 0.0075 - val_loss: 0.0080\n",
            "Epoch 6/20\n",
            "\u001b[1m143/194\u001b[0m \u001b[32m━━━━━━━━━━━━━━\u001b[0m\u001b[37m━━━━━━\u001b[0m \u001b[1m1:57\u001b[0m 2s/step - loss: 0.0075"
          ]
        }
      ]
    },
    {
      "cell_type": "markdown",
      "source": [
        "# IMPORTANTE NO CORRER: ES UN MODELO ALTERNATIVO"
      ],
      "metadata": {
        "id": "U5Qp94nlRcLP"
      }
    },
    {
      "cell_type": "markdown",
      "source": [
        "Preparacion de los datos"
      ],
      "metadata": {
        "id": "gbS4KTUoQFGK"
      }
    },
    {
      "cell_type": "code",
      "source": [
        "import numpy as np\n",
        "from sklearn.preprocessing import LabelEncoder\n",
        "from tensorflow.keras.utils import to_categorical\n",
        "\n",
        "# Convertir a numpy array\n",
        "X = np.array(all_data, dtype=np.float32)  # Shape (N, 128,128,125)\n",
        "y = np.array(all_labels)\n",
        "\n",
        "# Normalizar imágenes (por canal o global)\n",
        "X /= X.max()  # Simple normalización 0-1 (puedes mejorar aquí)\n",
        "\n",
        "# Codificar etiquetas\n",
        "le = LabelEncoder()\n",
        "y_encoded = le.fit_transform(y)\n",
        "y_onehot = to_categorical(y_encoded)\n"
      ],
      "metadata": {
        "id": "rQ12btUMPr7F"
      },
      "execution_count": null,
      "outputs": []
    },
    {
      "cell_type": "markdown",
      "source": [
        "AutoEnconder Convolucional"
      ],
      "metadata": {
        "id": "9s9QmUWMQGyj"
      }
    },
    {
      "cell_type": "code",
      "source": [
        "from tensorflow.keras.layers import Input, Conv2D, MaxPooling2D, UpSampling2D, Flatten, Dense, Reshape\n",
        "from tensorflow.keras.models import Model\n",
        "\n",
        "input_shape = (128, 128, 125)  # Altura, Ancho, Canales\n",
        "latent_dim = 256\n",
        "\n",
        "input_img = Input(shape=input_shape)\n",
        "\n",
        "# Encoder\n",
        "x = Conv2D(64, (3,3), activation='relu', padding='same')(input_img)\n",
        "x = MaxPooling2D((2,2), padding='same')(x)  # 64x64\n",
        "x = Conv2D(128, (3,3), activation='relu', padding='same')(x)\n",
        "x = MaxPooling2D((2,2), padding='same')(x)  # 32x32\n",
        "x = Conv2D(256, (3,3), activation='relu', padding='same')(x)\n",
        "x = MaxPooling2D((2,2), padding='same')(x)  # 16x16\n",
        "\n",
        "x = Flatten()(x)\n",
        "encoded = Dense(latent_dim, activation='relu')(x)\n",
        "\n",
        "# Decoder\n",
        "x = Dense(16*16*256, activation='relu')(encoded)\n",
        "x = Reshape((16,16,256))(x)\n",
        "\n",
        "x = UpSampling2D((2,2))(x)  # 32x32\n",
        "x = Conv2D(256, (3,3), activation='relu', padding='same')(x)\n",
        "x = UpSampling2D((2,2))(x)  # 64x64\n",
        "x = Conv2D(128, (3,3), activation='relu', padding='same')(x)\n",
        "x = UpSampling2D((2,2))(x)  # 128x128\n",
        "x = Conv2D(64, (3,3), activation='relu', padding='same')(x)\n",
        "\n",
        "decoded = Conv2D(125, (3,3), activation='sigmoid', padding='same')(x)  # Reconstruir todos los canales\n",
        "\n",
        "autoencoder = Model(input_img, decoded)\n",
        "autoencoder.compile(optimizer='adam', loss='mse')\n",
        "\n",
        "# Encoder model para extracción de características latentes\n",
        "encoder_model = Model(input_img, encoded)\n"
      ],
      "metadata": {
        "id": "TfLb0zv1Px-G"
      },
      "execution_count": null,
      "outputs": []
    },
    {
      "cell_type": "markdown",
      "source": [
        "Entrenamiento del modelo"
      ],
      "metadata": {
        "id": "Yuv18GuDQKKJ"
      }
    },
    {
      "cell_type": "code",
      "source": [
        "autoencoder.fit(X, X, epochs=30, batch_size=16, validation_split=0.2)\n"
      ],
      "metadata": {
        "id": "2S7iycRYPzsB"
      },
      "execution_count": null,
      "outputs": []
    },
    {
      "cell_type": "markdown",
      "source": [
        "Clasificacion usando la representacion latente"
      ],
      "metadata": {
        "id": "QqsXwHifQLkS"
      }
    },
    {
      "cell_type": "code",
      "source": [
        "from tensorflow.keras.layers import Dense, Input\n",
        "from tensorflow.keras.models import Model\n",
        "\n",
        "X_encoded = encoder_model.predict(X)\n",
        "\n",
        "input_latent = Input(shape=(latent_dim,))\n",
        "x = Dense(128, activation='relu')(input_latent)\n",
        "x = Dense(64, activation='relu')(x)\n",
        "output = Dense(y_onehot.shape[1], activation='softmax')(x)\n",
        "\n",
        "classifier = Model(input_latent, output)\n",
        "classifier.compile(optimizer='adam', loss='categorical_crossentropy', metrics=['accuracy'])\n",
        "\n",
        "classifier.fit(X_encoded, y_onehot, epochs=20, batch_size=16, validation_split=0.2)\n"
      ],
      "metadata": {
        "id": "VYizv0F5P06d"
      },
      "execution_count": null,
      "outputs": []
    }
  ]
}